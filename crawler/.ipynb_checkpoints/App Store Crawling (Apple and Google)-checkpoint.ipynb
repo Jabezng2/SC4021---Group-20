{
 "cells": [
  {
   "cell_type": "code",
   "execution_count": 1,
   "id": "93824d9c",
   "metadata": {},
   "outputs": [],
   "source": [
    "%%capture\n",
    "!pip install google-play-scraper app-store-scraper textblob"
   ]
  },
  {
   "cell_type": "code",
   "execution_count": 2,
   "id": "c3eab9eb",
   "metadata": {},
   "outputs": [],
   "source": [
    "import pandas as pd\n",
    "from google_play_scraper import reviews, Sort\n",
    "from app_store_scraper import AppStore\n",
    "from textblob import TextBlob\n",
    "from langdetect import detect, DetectorFactory\n",
    "\n",
    "DetectorFactory.seed = 0  # ensures consistent results"
   ]
  },
  {
   "cell_type": "code",
   "execution_count": 7,
   "id": "6fbabcec",
   "metadata": {},
   "outputs": [],
   "source": [
    "# Crypto Exchange Configs for App Store and Play Store\n",
    "EXCHANGES = {\n",
    "    'binance': {\n",
    "        'app_store_id': 1436799971,\n",
    "        'google_play_id': 'com.binance.dev'\n",
    "    },\n",
    "    'coinbase': {\n",
    "        'app_store_id': 886427730,\n",
    "        'google_play_id': 'com.coinbase.android'\n",
    "    },\n",
    "    'kraken': {\n",
    "        'app_store_id': 1481947260,\n",
    "        'google_play_id': 'com.kraken.invest.app'\n",
    "    },\n",
    "    'okx': {\n",
    "        'app_store_id': 1327268470,\n",
    "        'google_play_id': 'com.okinc.okex.gp'\n",
    "    },\n",
    "    'kucoin': {\n",
    "        'app_store_id': 1378956601,\n",
    "        'google_play_id': 'com.kubi.kucoin'\n",
    "    },\n",
    "    'crypto.com': {\n",
    "        'app_store_id': 1262148500,\n",
    "        'google_play_id': 'co.mona.android'\n",
    "    },\n",
    "    'bybit': {\n",
    "        'app_store_id': 1488296980,\n",
    "        'google_play_id': 'com.bybit.app'\n",
    "    }\n",
    "}\n",
    "\n",
    "REVIEW_COUNT = 1000\n",
    "APP_OUTPUT_CSV = '../data/app_crypto_data.csv'"
   ]
  },
  {
   "cell_type": "code",
   "execution_count": 8,
   "id": "17f1e708",
   "metadata": {},
   "outputs": [],
   "source": [
    "def get_sentiment(text):\n",
    "    analysis = TextBlob(text)\n",
    "    if analysis.sentiment.polarity > 0:\n",
    "        return 'positive'\n",
    "    elif analysis.sentiment.polarity == 0:\n",
    "        return 'neutral'\n",
    "    else:\n",
    "        return 'negative'"
   ]
  },
  {
   "cell_type": "code",
   "execution_count": 9,
   "id": "71a06ed6",
   "metadata": {},
   "outputs": [
    {
     "name": "stderr",
     "output_type": "stream",
     "text": [
      "2025-04-07 19:20:49,289 [INFO] Base - Initialised: AppStore('us', 'binance', 1436799971)\n",
      "2025-04-07 19:20:49,289 [INFO] Base - Ready to fetch reviews from: https://apps.apple.com/us/app/binance/id1436799971\n",
      "2025-04-07 19:20:54,362 [INFO] Base - [id:1436799971] Fetched 280 reviews (280 fetched in total)\n",
      "2025-04-07 19:20:59,789 [INFO] Base - [id:1436799971] Fetched 580 reviews (580 fetched in total)\n",
      "2025-04-07 19:21:05,147 [INFO] Base - [id:1436799971] Fetched 900 reviews (900 fetched in total)\n",
      "2025-04-07 19:21:06,947 [INFO] Base - [id:1436799971] Fetched 1000 reviews (1000 fetched in total)\n"
     ]
    },
    {
     "name": "stdout",
     "output_type": "stream",
     "text": [
      "Fetched 1000 iOS reviews for binance\n"
     ]
    },
    {
     "name": "stderr",
     "output_type": "stream",
     "text": [
      "2025-04-07 19:21:17,110 [INFO] Base - Initialised: AppStore('us', 'coinbase', 886427730)\n",
      "2025-04-07 19:21:17,110 [INFO] Base - Ready to fetch reviews from: https://apps.apple.com/us/app/coinbase/id886427730\n"
     ]
    },
    {
     "name": "stdout",
     "output_type": "stream",
     "text": [
      "Fetched 1000 Android reviews for binance\n"
     ]
    },
    {
     "name": "stderr",
     "output_type": "stream",
     "text": [
      "2025-04-07 19:21:22,224 [INFO] Base - [id:886427730] Fetched 600 reviews (600 fetched in total)\n",
      "2025-04-07 19:21:27,951 [INFO] Base - [id:886427730] Fetched 900 reviews (900 fetched in total)\n",
      "2025-04-07 19:21:29,795 [INFO] Base - [id:886427730] Fetched 1000 reviews (1000 fetched in total)\n"
     ]
    },
    {
     "name": "stdout",
     "output_type": "stream",
     "text": [
      "Fetched 1000 iOS reviews for coinbase\n",
      "Fetched 1000 Android reviews for coinbase\n"
     ]
    },
    {
     "name": "stderr",
     "output_type": "stream",
     "text": [
      "2025-04-07 19:21:39,481 [INFO] Base - Initialised: AppStore('us', 'kraken', 1481947260)\n",
      "2025-04-07 19:21:39,483 [INFO] Base - Ready to fetch reviews from: https://apps.apple.com/us/app/kraken/id1481947260\n",
      "2025-04-07 19:21:44,665 [INFO] Base - [id:1481947260] Fetched 640 reviews (640 fetched in total)\n",
      "2025-04-07 19:21:50,172 [INFO] Base - [id:1481947260] Fetched 1000 reviews (1000 fetched in total)\n"
     ]
    },
    {
     "name": "stdout",
     "output_type": "stream",
     "text": [
      "Fetched 1000 iOS reviews for kraken\n",
      "Fetched 1000 Android reviews for kraken\n"
     ]
    },
    {
     "name": "stderr",
     "output_type": "stream",
     "text": [
      "2025-04-07 19:21:58,796 [INFO] Base - Initialised: AppStore('us', 'okx', 1327268470)\n",
      "2025-04-07 19:21:58,797 [INFO] Base - Ready to fetch reviews from: https://apps.apple.com/us/app/okx/id1327268470\n",
      "2025-04-07 19:22:04,114 [INFO] Base - [id:1327268470] Fetched 540 reviews (540 fetched in total)\n",
      "2025-04-07 19:22:09,715 [INFO] Base - [id:1327268470] Fetched 780 reviews (780 fetched in total)\n",
      "2025-04-07 19:22:12,386 [INFO] Base - [id:1327268470] Fetched 892 reviews (892 fetched in total)\n"
     ]
    },
    {
     "name": "stdout",
     "output_type": "stream",
     "text": [
      "Fetched 892 iOS reviews for okx\n"
     ]
    },
    {
     "name": "stderr",
     "output_type": "stream",
     "text": [
      "2025-04-07 19:22:21,025 [INFO] Base - Initialised: AppStore('us', 'kucoin', 1378956601)\n",
      "2025-04-07 19:22:21,025 [INFO] Base - Ready to fetch reviews from: https://apps.apple.com/us/app/kucoin/id1378956601\n"
     ]
    },
    {
     "name": "stdout",
     "output_type": "stream",
     "text": [
      "Fetched 1000 Android reviews for okx\n"
     ]
    },
    {
     "name": "stderr",
     "output_type": "stream",
     "text": [
      "2025-04-07 19:22:26,115 [INFO] Base - [id:1378956601] Fetched 240 reviews (240 fetched in total)\n",
      "2025-04-07 19:22:31,513 [INFO] Base - [id:1378956601] Fetched 520 reviews (520 fetched in total)\n",
      "2025-04-07 19:22:37,214 [INFO] Base - [id:1378956601] Fetched 820 reviews (820 fetched in total)\n",
      "2025-04-07 19:22:40,542 [INFO] Base - [id:1378956601] Fetched 1000 reviews (1000 fetched in total)\n"
     ]
    },
    {
     "name": "stdout",
     "output_type": "stream",
     "text": [
      "Fetched 1000 iOS reviews for kucoin\n",
      "Fetched 1000 Android reviews for kucoin\n"
     ]
    },
    {
     "name": "stderr",
     "output_type": "stream",
     "text": [
      "2025-04-07 19:22:50,072 [INFO] Base - Initialised: AppStore('us', 'crypto-com', 1262148500)\n",
      "2025-04-07 19:22:50,075 [INFO] Base - Ready to fetch reviews from: https://apps.apple.com/us/app/crypto-com/id1262148500\n",
      "2025-04-07 19:22:55,388 [INFO] Base - [id:1262148500] Fetched 260 reviews (260 fetched in total)\n",
      "2025-04-07 19:23:01,021 [INFO] Base - [id:1262148500] Fetched 520 reviews (520 fetched in total)\n",
      "2025-04-07 19:23:06,731 [INFO] Base - [id:1262148500] Fetched 740 reviews (740 fetched in total)\n",
      "2025-04-07 19:23:11,954 [INFO] Base - [id:1262148500] Fetched 1000 reviews (1000 fetched in total)\n"
     ]
    },
    {
     "name": "stdout",
     "output_type": "stream",
     "text": [
      "Fetched 1000 iOS reviews for crypto.com\n",
      "Fetched 1000 Android reviews for crypto.com\n"
     ]
    },
    {
     "name": "stderr",
     "output_type": "stream",
     "text": [
      "2025-04-07 19:23:20,903 [INFO] Base - Initialised: AppStore('us', 'bybit', 1488296980)\n",
      "2025-04-07 19:23:20,905 [INFO] Base - Ready to fetch reviews from: https://apps.apple.com/us/app/bybit/id1488296980\n",
      "2025-04-07 19:23:26,220 [INFO] Base - [id:1488296980] Fetched 600 reviews (600 fetched in total)\n",
      "2025-04-07 19:23:31,780 [INFO] Base - [id:1488296980] Fetched 880 reviews (880 fetched in total)\n",
      "2025-04-07 19:23:34,103 [INFO] Base - [id:1488296980] Fetched 1000 reviews (1000 fetched in total)\n"
     ]
    },
    {
     "name": "stdout",
     "output_type": "stream",
     "text": [
      "Fetched 1000 iOS reviews for bybit\n",
      "Fetched 1000 Android reviews for bybit\n"
     ]
    },
    {
     "data": {
      "text/html": [
       "<div>\n",
       "<style scoped>\n",
       "    .dataframe tbody tr th:only-of-type {\n",
       "        vertical-align: middle;\n",
       "    }\n",
       "\n",
       "    .dataframe tbody tr th {\n",
       "        vertical-align: top;\n",
       "    }\n",
       "\n",
       "    .dataframe thead th {\n",
       "        text-align: right;\n",
       "    }\n",
       "</style>\n",
       "<table border=\"1\" class=\"dataframe\">\n",
       "  <thead>\n",
       "    <tr style=\"text-align: right;\">\n",
       "      <th></th>\n",
       "      <th>exchange</th>\n",
       "      <th>platform</th>\n",
       "      <th>user</th>\n",
       "      <th>rating</th>\n",
       "      <th>date</th>\n",
       "      <th>text</th>\n",
       "    </tr>\n",
       "  </thead>\n",
       "  <tbody>\n",
       "    <tr>\n",
       "      <th>0</th>\n",
       "      <td>binance</td>\n",
       "      <td>ios</td>\n",
       "      <td>James4all</td>\n",
       "      <td>5</td>\n",
       "      <td>2023-10-04 08:23:28</td>\n",
       "      <td>How can someone set stop lose and take profit ...</td>\n",
       "    </tr>\n",
       "    <tr>\n",
       "      <th>1</th>\n",
       "      <td>binance</td>\n",
       "      <td>ios</td>\n",
       "      <td>Zionsb</td>\n",
       "      <td>1</td>\n",
       "      <td>2023-05-24 00:13:10</td>\n",
       "      <td>I have been using Binance for a little bit, ev...</td>\n",
       "    </tr>\n",
       "    <tr>\n",
       "      <th>2</th>\n",
       "      <td>binance</td>\n",
       "      <td>ios</td>\n",
       "      <td>Username: Courtney</td>\n",
       "      <td>2</td>\n",
       "      <td>2021-04-11 18:25:51</td>\n",
       "      <td>The only thing good about the app is it’s inte...</td>\n",
       "    </tr>\n",
       "    <tr>\n",
       "      <th>3</th>\n",
       "      <td>binance</td>\n",
       "      <td>ios</td>\n",
       "      <td>joshdammit</td>\n",
       "      <td>1</td>\n",
       "      <td>2023-06-15 10:57:52</td>\n",
       "      <td>Got an email last week saying binance is shutt...</td>\n",
       "    </tr>\n",
       "    <tr>\n",
       "      <th>4</th>\n",
       "      <td>binance</td>\n",
       "      <td>ios</td>\n",
       "      <td>King Banks M</td>\n",
       "      <td>1</td>\n",
       "      <td>2021-05-05 17:13:25</td>\n",
       "      <td>I’ve been trying to buy crypto for a while now...</td>\n",
       "    </tr>\n",
       "    <tr>\n",
       "      <th>...</th>\n",
       "      <td>...</td>\n",
       "      <td>...</td>\n",
       "      <td>...</td>\n",
       "      <td>...</td>\n",
       "      <td>...</td>\n",
       "      <td>...</td>\n",
       "    </tr>\n",
       "    <tr>\n",
       "      <th>10736</th>\n",
       "      <td>bybit</td>\n",
       "      <td>android</td>\n",
       "      <td>Yamkela Mnqandi</td>\n",
       "      <td>5</td>\n",
       "      <td>2025-02-13 21:17:17</td>\n",
       "      <td>Very helpful app</td>\n",
       "    </tr>\n",
       "    <tr>\n",
       "      <th>10737</th>\n",
       "      <td>bybit</td>\n",
       "      <td>android</td>\n",
       "      <td>DAYYABU ALI ADAMU</td>\n",
       "      <td>4</td>\n",
       "      <td>2025-02-13 19:32:09</td>\n",
       "      <td>A wonderful exchange App very well build with ...</td>\n",
       "    </tr>\n",
       "    <tr>\n",
       "      <th>10738</th>\n",
       "      <td>bybit</td>\n",
       "      <td>android</td>\n",
       "      <td>Julrex Tumakay</td>\n",
       "      <td>4</td>\n",
       "      <td>2025-02-13 18:52:48</td>\n",
       "      <td>I love this apps</td>\n",
       "    </tr>\n",
       "    <tr>\n",
       "      <th>10739</th>\n",
       "      <td>bybit</td>\n",
       "      <td>android</td>\n",
       "      <td>Kolawole Quazim Opeyemi</td>\n",
       "      <td>1</td>\n",
       "      <td>2025-02-13 18:39:41</td>\n",
       "      <td>Just to download the app alone is taking ages ...</td>\n",
       "    </tr>\n",
       "    <tr>\n",
       "      <th>10740</th>\n",
       "      <td>bybit</td>\n",
       "      <td>android</td>\n",
       "      <td>Umar Arif</td>\n",
       "      <td>5</td>\n",
       "      <td>2025-02-13 17:38:48</td>\n",
       "      <td>Thanks so much</td>\n",
       "    </tr>\n",
       "  </tbody>\n",
       "</table>\n",
       "<p>10741 rows × 6 columns</p>\n",
       "</div>"
      ],
      "text/plain": [
       "      exchange platform                     user  rating                date  \\\n",
       "0      binance      ios                James4all       5 2023-10-04 08:23:28   \n",
       "1      binance      ios                   Zionsb       1 2023-05-24 00:13:10   \n",
       "2      binance      ios       Username: Courtney       2 2021-04-11 18:25:51   \n",
       "3      binance      ios               joshdammit       1 2023-06-15 10:57:52   \n",
       "4      binance      ios             King Banks M       1 2021-05-05 17:13:25   \n",
       "...        ...      ...                      ...     ...                 ...   \n",
       "10736    bybit  android          Yamkela Mnqandi       5 2025-02-13 21:17:17   \n",
       "10737    bybit  android        DAYYABU ALI ADAMU       4 2025-02-13 19:32:09   \n",
       "10738    bybit  android           Julrex Tumakay       4 2025-02-13 18:52:48   \n",
       "10739    bybit  android  Kolawole Quazim Opeyemi       1 2025-02-13 18:39:41   \n",
       "10740    bybit  android                Umar Arif       5 2025-02-13 17:38:48   \n",
       "\n",
       "                                                    text  \n",
       "0      How can someone set stop lose and take profit ...  \n",
       "1      I have been using Binance for a little bit, ev...  \n",
       "2      The only thing good about the app is it’s inte...  \n",
       "3      Got an email last week saying binance is shutt...  \n",
       "4      I’ve been trying to buy crypto for a while now...  \n",
       "...                                                  ...  \n",
       "10736                                   Very helpful app  \n",
       "10737  A wonderful exchange App very well build with ...  \n",
       "10738                                   I love this apps  \n",
       "10739  Just to download the app alone is taking ages ...  \n",
       "10740                                     Thanks so much  \n",
       "\n",
       "[10741 rows x 6 columns]"
      ]
     },
     "execution_count": 9,
     "metadata": {},
     "output_type": "execute_result"
    }
   ],
   "source": [
    "all_reviews = []\n",
    "\n",
    "# Start crawling !\n",
    "for name, ids in EXCHANGES.items():\n",
    "    # App Store Reviews\n",
    "    try:\n",
    "        ios_app = AppStore(country=\"us\", app_name=name, app_id=ids['app_store_id'])\n",
    "        ios_app.review(how_many=REVIEW_COUNT)\n",
    "        for review in ios_app.reviews:\n",
    "            text = review.get('review', '')\n",
    "            try:\n",
    "                if detect(text) != 'en':\n",
    "                    continue\n",
    "            except:\n",
    "                continue\n",
    "            all_reviews.append({\n",
    "                'exchange': name,\n",
    "                'platform': 'ios',\n",
    "                'user': review.get('userName'),\n",
    "                'rating': review.get('rating'),\n",
    "                'date': review.get('date'),\n",
    "                'text': text,\n",
    "                #'sentiment': get_sentiment(text)\n",
    "            })\n",
    "\n",
    "        print(f\"Fetched {len(ios_app.reviews)} iOS reviews for {name}\")\n",
    "    except Exception as e:\n",
    "        print(f\"Failed to fetch iOS reviews for {name}: {e}\")\n",
    "\n",
    "    # Google Play Reviews\n",
    "    try:\n",
    "        gp_reviews, _ = reviews(\n",
    "            ids['google_play_id'],\n",
    "            lang='en',\n",
    "            country='us',\n",
    "            count=REVIEW_COUNT,\n",
    "            sort=Sort.NEWEST\n",
    "        )\n",
    "        for review in gp_reviews:\n",
    "            text = review.get('content', '')\n",
    "            try:\n",
    "                if detect(text) != 'en':\n",
    "                    continue\n",
    "            except:\n",
    "                continue\n",
    "            all_reviews.append({\n",
    "                'exchange': name,\n",
    "                'platform': 'android',\n",
    "                'user': review.get('userName'),\n",
    "                'rating': review.get('score'),\n",
    "                'date': review.get('at'),\n",
    "                'text': text,\n",
    "                #'sentiment': get_sentiment(text)\n",
    "            })\n",
    "\n",
    "        print(f\"Fetched {len(gp_reviews)} Android reviews for {name}\")\n",
    "    except Exception as e:\n",
    "        print(f\"Failed to fetch Android reviews for {name}: {e}\")\n",
    "\n",
    "# Save to CSV\n",
    "reviews_df = pd.DataFrame(all_reviews)\n",
    "reviews_df"
   ]
  },
  {
   "cell_type": "code",
   "execution_count": 10,
   "id": "8f05a7fa",
   "metadata": {},
   "outputs": [],
   "source": [
    "reviews_df.to_csv(APP_OUTPUT_CSV, index=False)"
   ]
  },
  {
   "cell_type": "code",
   "execution_count": null,
   "id": "5ac7ae42",
   "metadata": {},
   "outputs": [],
   "source": []
  }
 ],
 "metadata": {
  "kernelspec": {
   "display_name": "Python 3 (ipykernel)",
   "language": "python",
   "name": "python3"
  },
  "language_info": {
   "codemirror_mode": {
    "name": "ipython",
    "version": 3
   },
   "file_extension": ".py",
   "mimetype": "text/x-python",
   "name": "python",
   "nbconvert_exporter": "python",
   "pygments_lexer": "ipython3",
   "version": "3.9.7"
  }
 },
 "nbformat": 4,
 "nbformat_minor": 5
}
