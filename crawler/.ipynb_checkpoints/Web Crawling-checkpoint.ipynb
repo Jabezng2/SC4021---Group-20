{
 "cells": [
  {
   "cell_type": "code",
   "execution_count": 2,
   "id": "1f21c0f2",
   "metadata": {},
   "outputs": [],
   "source": [
    "%%capture\n",
    "!pip install praw tweepy pandas requests beautifulsoup4 python-dotenv"
   ]
  },
  {
   "cell_type": "code",
   "execution_count": 3,
   "id": "87fa7218",
   "metadata": {},
   "outputs": [],
   "source": [
    "import praw\n",
    "import tweepy\n",
    "import json\n",
    "import os\n",
    "from dotenv import load_dotenv"
   ]
  },
  {
   "cell_type": "markdown",
   "id": "65745567",
   "metadata": {},
   "source": [
    "### Fetch Credentials"
   ]
  },
  {
   "cell_type": "code",
   "execution_count": 4,
   "id": "6d5f6924",
   "metadata": {},
   "outputs": [
    {
     "name": "stdout",
     "output_type": "stream",
     "text": [
      "WRIBjg8QaaS0f4PikZyhyA\n"
     ]
    }
   ],
   "source": [
    "load_dotenv()\n",
    "\n",
    "# Retrieve credentials\n",
    "consumer_key = os.getenv(\"TWITTER_CONSUMER_KEY\")\n",
    "consumer_secret = os.getenv(\"TWITTER_CONSUMER_SECRET\")\n",
    "access_token = os.getenv(\"TWITTER_ACCESS_TOKEN\")\n",
    "access_token_secret = os.getenv(\"TWITTER_ACCESS_TOKEN_SECRET\")\n",
    "bearer_token = os.getenv(\"TWITTER_BEARER_TOKEN\")\n",
    "\n",
    "reddit_client_id = os.getenv(\"REDDIT_CLIENT_ID\")\n",
    "reddit_client_secret = os.getenv(\"REDDIT_CLIENT_SECRET\")\n",
    "reddit_user_agent = os.getenv(\"REDDIT_USER_AGENT\")"
   ]
  },
  {
   "cell_type": "markdown",
   "id": "c0a67a64",
   "metadata": {},
   "source": [
    "### Reddit Crawler Setup"
   ]
  },
  {
   "cell_type": "code",
   "execution_count": 5,
   "id": "fd15e631",
   "metadata": {},
   "outputs": [],
   "source": [
    "reddit = praw.Reddit(\n",
    "    client_id=reddit_client_id,\n",
    "    client_secret=reddit_client_secret,\n",
    "    user_agent=reddit_user_agent\n",
    ")"
   ]
  },
  {
   "cell_type": "markdown",
   "id": "6c6d91c3",
   "metadata": {},
   "source": [
    "### Twitter Crawler Setup"
   ]
  },
  {
   "cell_type": "code",
   "execution_count": 6,
   "id": "24e1680a",
   "metadata": {},
   "outputs": [],
   "source": [
    "twitter = tweepy.Client(\n",
    "    consumer_key=consumer_key,\n",
    "    consumer_secret=consumer_secret,\n",
    "    access_token=access_token,\n",
    "    access_token_secret=access_token_secret,\n",
    "    bearer_token=bearer_token\n",
    ")"
   ]
  },
  {
   "cell_type": "code",
   "execution_count": null,
   "id": "7abd7e54",
   "metadata": {},
   "outputs": [],
   "source": []
  }
 ],
 "metadata": {
  "kernelspec": {
   "display_name": "Python 3 (ipykernel)",
   "language": "python",
   "name": "python3"
  },
  "language_info": {
   "codemirror_mode": {
    "name": "ipython",
    "version": 3
   },
   "file_extension": ".py",
   "mimetype": "text/x-python",
   "name": "python",
   "nbconvert_exporter": "python",
   "pygments_lexer": "ipython3",
   "version": "3.9.7"
  }
 },
 "nbformat": 4,
 "nbformat_minor": 5
}
