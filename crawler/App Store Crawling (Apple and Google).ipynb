{
 "cells": [
  {
   "cell_type": "code",
   "execution_count": 1,
   "id": "93824d9c",
   "metadata": {},
   "outputs": [],
   "source": [
    "%%capture\n",
    "!pip install google-play-scraper app-store-scraper textblob"
   ]
  },
  {
   "cell_type": "code",
   "execution_count": 2,
   "id": "c3eab9eb",
   "metadata": {},
   "outputs": [],
   "source": [
    "import pandas as pd\n",
    "from google_play_scraper import reviews, Sort\n",
    "from app_store_scraper import AppStore\n",
    "from textblob import TextBlob\n",
    "from langdetect import detect, DetectorFactory\n",
    "\n",
    "DetectorFactory.seed = 0  # ensures consistent results"
   ]
  },
  {
   "cell_type": "code",
   "execution_count": 3,
   "id": "6fbabcec",
   "metadata": {},
   "outputs": [],
   "source": [
    "# Crypto Exchange Configs for App Store and Play Store\n",
    "EXCHANGES = {\n",
    "    'binance': {\n",
    "        'app_store_id': 1436799971,\n",
    "        'google_play_id': 'com.binance.dev'\n",
    "    },\n",
    "    'coinbase': {\n",
    "        'app_store_id': 886427730,\n",
    "        'google_play_id': 'com.coinbase.android'\n",
    "    },\n",
    "    'kraken': {\n",
    "        'app_store_id': 1436110830,\n",
    "        'google_play_id': 'com.kraken.invest.app'\n",
    "    },\n",
    "    'okx': {\n",
    "        'app_store_id': 1327268470,\n",
    "        'google_play_id': 'com.okinc.okex'\n",
    "    },\n",
    "    'kucoin': {\n",
    "        'app_store_id': 1378956601,\n",
    "        'google_play_id': 'com.kubi.kucoin'\n",
    "    },\n",
    "    'crypto.com': {\n",
    "        'app_store_id': 1262148500,\n",
    "        'google_play_id': 'co.hyperion.crypto'\n",
    "    },\n",
    "    'bybit': {\n",
    "        'app_store_id': 1469939265,\n",
    "        'google_play_id': 'com.bybit.app'\n",
    "    }\n",
    "}\n",
    "\n",
    "REVIEW_COUNT = 200\n",
    "APP_OUTPUT_CSV = '../data/app_crypto_data.csv'"
   ]
  },
  {
   "cell_type": "code",
   "execution_count": 4,
   "id": "17f1e708",
   "metadata": {},
   "outputs": [],
   "source": [
    "def get_sentiment(text):\n",
    "    analysis = TextBlob(text)\n",
    "    if analysis.sentiment.polarity > 0:\n",
    "        return 'positive'\n",
    "    elif analysis.sentiment.polarity == 0:\n",
    "        return 'neutral'\n",
    "    else:\n",
    "        return 'negative'"
   ]
  },
  {
   "cell_type": "code",
   "execution_count": 5,
   "id": "71a06ed6",
   "metadata": {},
   "outputs": [
    {
     "name": "stderr",
     "output_type": "stream",
     "text": [
      "2025-03-27 13:39:55,120 [INFO] Base - Initialised: AppStore('us', 'binance', 1436799971)\n",
      "2025-03-27 13:39:55,123 [INFO] Base - Ready to fetch reviews from: https://apps.apple.com/us/app/binance/id1436799971\n",
      "2025-03-27 13:39:59,754 [INFO] Base - [id:1436799971] Fetched 200 reviews (200 fetched in total)\n"
     ]
    },
    {
     "name": "stdout",
     "output_type": "stream",
     "text": [
      "Fetched 200 iOS reviews for binance\n",
      "Fetched 200 Android reviews for binance\n"
     ]
    },
    {
     "name": "stderr",
     "output_type": "stream",
     "text": [
      "2025-03-27 13:40:03,439 [INFO] Base - Initialised: AppStore('us', 'coinbase', 886427730)\n",
      "2025-03-27 13:40:03,440 [INFO] Base - Ready to fetch reviews from: https://apps.apple.com/us/app/coinbase/id886427730\n",
      "2025-03-27 13:40:07,703 [INFO] Base - [id:886427730] Fetched 200 reviews (200 fetched in total)\n"
     ]
    },
    {
     "name": "stdout",
     "output_type": "stream",
     "text": [
      "Fetched 200 iOS reviews for coinbase\n",
      "Fetched 200 Android reviews for coinbase\n"
     ]
    },
    {
     "name": "stderr",
     "output_type": "stream",
     "text": [
      "2025-03-27 13:40:10,520 [INFO] Base - Initialised: AppStore('us', 'kraken', 1436110830)\n",
      "2025-03-27 13:40:10,521 [INFO] Base - Ready to fetch reviews from: https://apps.apple.com/us/app/kraken/id1436110830\n",
      "2025-03-27 13:40:29,486 [ERROR] Base - Something went wrong: HTTPSConnectionPool(host='amp-api.apps.apple.com', port=443): Max retries exceeded with url: /v1/catalog/us/apps/1436110830/reviews?l=en-GB&offset=0&limit=20&platform=web&additionalPlatforms=appletv%2Cipad%2Ciphone%2Cmac (Caused by ResponseError('too many 404 error responses'))\n",
      "2025-03-27 13:40:29,490 [INFO] Base - [id:1436110830] Fetched 0 reviews (0 fetched in total)\n"
     ]
    },
    {
     "name": "stdout",
     "output_type": "stream",
     "text": [
      "Fetched 0 iOS reviews for kraken\n",
      "Fetched 200 Android reviews for kraken\n"
     ]
    },
    {
     "name": "stderr",
     "output_type": "stream",
     "text": [
      "2025-03-27 13:40:31,413 [INFO] Base - Initialised: AppStore('us', 'okx', 1327268470)\n",
      "2025-03-27 13:40:31,416 [INFO] Base - Ready to fetch reviews from: https://apps.apple.com/us/app/okx/id1327268470\n",
      "2025-03-27 13:40:35,154 [INFO] Base - [id:1327268470] Fetched 200 reviews (200 fetched in total)\n"
     ]
    },
    {
     "name": "stdout",
     "output_type": "stream",
     "text": [
      "Fetched 200 iOS reviews for okx\n"
     ]
    },
    {
     "name": "stderr",
     "output_type": "stream",
     "text": [
      "2025-03-27 13:40:36,879 [INFO] Base - Initialised: AppStore('us', 'kucoin', 1378956601)\n",
      "2025-03-27 13:40:36,880 [INFO] Base - Ready to fetch reviews from: https://apps.apple.com/us/app/kucoin/id1378956601\n"
     ]
    },
    {
     "name": "stdout",
     "output_type": "stream",
     "text": [
      "Fetched 148 Android reviews for okx\n"
     ]
    },
    {
     "name": "stderr",
     "output_type": "stream",
     "text": [
      "2025-03-27 13:40:40,711 [INFO] Base - [id:1378956601] Fetched 200 reviews (200 fetched in total)\n"
     ]
    },
    {
     "name": "stdout",
     "output_type": "stream",
     "text": [
      "Fetched 200 iOS reviews for kucoin\n",
      "Fetched 200 Android reviews for kucoin\n"
     ]
    },
    {
     "name": "stderr",
     "output_type": "stream",
     "text": [
      "2025-03-27 13:40:43,470 [INFO] Base - Initialised: AppStore('us', 'crypto-com', 1262148500)\n",
      "2025-03-27 13:40:43,472 [INFO] Base - Ready to fetch reviews from: https://apps.apple.com/us/app/crypto-com/id1262148500\n",
      "2025-03-27 13:40:47,980 [INFO] Base - [id:1262148500] Fetched 200 reviews (200 fetched in total)\n"
     ]
    },
    {
     "name": "stdout",
     "output_type": "stream",
     "text": [
      "Fetched 200 iOS reviews for crypto.com\n",
      "Fetched 0 Android reviews for crypto.com\n"
     ]
    },
    {
     "name": "stderr",
     "output_type": "stream",
     "text": [
      "2025-03-27 13:40:49,201 [INFO] Base - Initialised: AppStore('us', 'bybit', 1469939265)\n",
      "2025-03-27 13:40:49,203 [INFO] Base - Ready to fetch reviews from: https://apps.apple.com/us/app/bybit/id1469939265\n",
      "2025-03-27 13:41:08,196 [ERROR] Base - Something went wrong: HTTPSConnectionPool(host='amp-api.apps.apple.com', port=443): Max retries exceeded with url: /v1/catalog/us/apps/1469939265/reviews?l=en-GB&offset=0&limit=20&platform=web&additionalPlatforms=appletv%2Cipad%2Ciphone%2Cmac (Caused by ResponseError('too many 404 error responses'))\n",
      "2025-03-27 13:41:08,208 [INFO] Base - [id:1469939265] Fetched 0 reviews (0 fetched in total)\n"
     ]
    },
    {
     "name": "stdout",
     "output_type": "stream",
     "text": [
      "Fetched 0 iOS reviews for bybit\n",
      "Fetched 200 Android reviews for bybit\n"
     ]
    },
    {
     "data": {
      "text/html": [
       "<div>\n",
       "<style scoped>\n",
       "    .dataframe tbody tr th:only-of-type {\n",
       "        vertical-align: middle;\n",
       "    }\n",
       "\n",
       "    .dataframe tbody tr th {\n",
       "        vertical-align: top;\n",
       "    }\n",
       "\n",
       "    .dataframe thead th {\n",
       "        text-align: right;\n",
       "    }\n",
       "</style>\n",
       "<table border=\"1\" class=\"dataframe\">\n",
       "  <thead>\n",
       "    <tr style=\"text-align: right;\">\n",
       "      <th></th>\n",
       "      <th>exchange</th>\n",
       "      <th>platform</th>\n",
       "      <th>user</th>\n",
       "      <th>rating</th>\n",
       "      <th>date</th>\n",
       "      <th>text</th>\n",
       "      <th>sentiment</th>\n",
       "    </tr>\n",
       "  </thead>\n",
       "  <tbody>\n",
       "    <tr>\n",
       "      <th>0</th>\n",
       "      <td>binance</td>\n",
       "      <td>ios</td>\n",
       "      <td>James4all</td>\n",
       "      <td>5</td>\n",
       "      <td>2023-10-04 08:23:28</td>\n",
       "      <td>How can someone set stop lose and take profit ...</td>\n",
       "      <td>negative</td>\n",
       "    </tr>\n",
       "    <tr>\n",
       "      <th>1</th>\n",
       "      <td>binance</td>\n",
       "      <td>ios</td>\n",
       "      <td>Zionsb</td>\n",
       "      <td>1</td>\n",
       "      <td>2023-05-24 00:13:10</td>\n",
       "      <td>I have been using Binance for a little bit, ev...</td>\n",
       "      <td>positive</td>\n",
       "    </tr>\n",
       "    <tr>\n",
       "      <th>2</th>\n",
       "      <td>binance</td>\n",
       "      <td>ios</td>\n",
       "      <td>Username: Courtney</td>\n",
       "      <td>2</td>\n",
       "      <td>2021-04-11 18:25:51</td>\n",
       "      <td>The only thing good about the app is it’s inte...</td>\n",
       "      <td>positive</td>\n",
       "    </tr>\n",
       "    <tr>\n",
       "      <th>3</th>\n",
       "      <td>binance</td>\n",
       "      <td>ios</td>\n",
       "      <td>joshdammit</td>\n",
       "      <td>1</td>\n",
       "      <td>2023-06-15 10:57:52</td>\n",
       "      <td>Got an email last week saying binance is shutt...</td>\n",
       "      <td>positive</td>\n",
       "    </tr>\n",
       "    <tr>\n",
       "      <th>4</th>\n",
       "      <td>binance</td>\n",
       "      <td>ios</td>\n",
       "      <td>King Banks M</td>\n",
       "      <td>1</td>\n",
       "      <td>2021-05-05 17:13:25</td>\n",
       "      <td>I’ve been trying to buy crypto for a while now...</td>\n",
       "      <td>positive</td>\n",
       "    </tr>\n",
       "    <tr>\n",
       "      <th>...</th>\n",
       "      <td>...</td>\n",
       "      <td>...</td>\n",
       "      <td>...</td>\n",
       "      <td>...</td>\n",
       "      <td>...</td>\n",
       "      <td>...</td>\n",
       "      <td>...</td>\n",
       "    </tr>\n",
       "    <tr>\n",
       "      <th>1724</th>\n",
       "      <td>bybit</td>\n",
       "      <td>android</td>\n",
       "      <td>Ahsan Ali</td>\n",
       "      <td>5</td>\n",
       "      <td>2025-03-03 17:27:34</td>\n",
       "      <td>Never seen such a fast and reliable exchange w...</td>\n",
       "      <td>positive</td>\n",
       "    </tr>\n",
       "    <tr>\n",
       "      <th>1725</th>\n",
       "      <td>bybit</td>\n",
       "      <td>android</td>\n",
       "      <td>Bala M Sarki</td>\n",
       "      <td>3</td>\n",
       "      <td>2025-03-03 17:13:58</td>\n",
       "      <td>Why is it that opay payment reduce our money</td>\n",
       "      <td>neutral</td>\n",
       "    </tr>\n",
       "    <tr>\n",
       "      <th>1726</th>\n",
       "      <td>bybit</td>\n",
       "      <td>android</td>\n",
       "      <td>Jesu Ponippase</td>\n",
       "      <td>5</td>\n",
       "      <td>2025-03-03 17:13:10</td>\n",
       "      <td>Supper easy trading platform</td>\n",
       "      <td>positive</td>\n",
       "    </tr>\n",
       "    <tr>\n",
       "      <th>1727</th>\n",
       "      <td>bybit</td>\n",
       "      <td>android</td>\n",
       "      <td>Susan Metalor</td>\n",
       "      <td>5</td>\n",
       "      <td>2025-03-03 16:04:41</td>\n",
       "      <td>Great platform.</td>\n",
       "      <td>positive</td>\n",
       "    </tr>\n",
       "    <tr>\n",
       "      <th>1728</th>\n",
       "      <td>bybit</td>\n",
       "      <td>android</td>\n",
       "      <td>Annalyn Rosco</td>\n",
       "      <td>5</td>\n",
       "      <td>2025-03-03 14:06:05</td>\n",
       "      <td>it's a good app</td>\n",
       "      <td>positive</td>\n",
       "    </tr>\n",
       "  </tbody>\n",
       "</table>\n",
       "<p>1729 rows × 7 columns</p>\n",
       "</div>"
      ],
      "text/plain": [
       "     exchange platform                user  rating                date  \\\n",
       "0     binance      ios           James4all       5 2023-10-04 08:23:28   \n",
       "1     binance      ios              Zionsb       1 2023-05-24 00:13:10   \n",
       "2     binance      ios  Username: Courtney       2 2021-04-11 18:25:51   \n",
       "3     binance      ios          joshdammit       1 2023-06-15 10:57:52   \n",
       "4     binance      ios        King Banks M       1 2021-05-05 17:13:25   \n",
       "...       ...      ...                 ...     ...                 ...   \n",
       "1724    bybit  android           Ahsan Ali       5 2025-03-03 17:27:34   \n",
       "1725    bybit  android        Bala M Sarki       3 2025-03-03 17:13:58   \n",
       "1726    bybit  android      Jesu Ponippase       5 2025-03-03 17:13:10   \n",
       "1727    bybit  android       Susan Metalor       5 2025-03-03 16:04:41   \n",
       "1728    bybit  android       Annalyn Rosco       5 2025-03-03 14:06:05   \n",
       "\n",
       "                                                   text sentiment  \n",
       "0     How can someone set stop lose and take profit ...  negative  \n",
       "1     I have been using Binance for a little bit, ev...  positive  \n",
       "2     The only thing good about the app is it’s inte...  positive  \n",
       "3     Got an email last week saying binance is shutt...  positive  \n",
       "4     I’ve been trying to buy crypto for a while now...  positive  \n",
       "...                                                 ...       ...  \n",
       "1724  Never seen such a fast and reliable exchange w...  positive  \n",
       "1725       Why is it that opay payment reduce our money   neutral  \n",
       "1726                       Supper easy trading platform  positive  \n",
       "1727                                    Great platform.  positive  \n",
       "1728                                    it's a good app  positive  \n",
       "\n",
       "[1729 rows x 7 columns]"
      ]
     },
     "execution_count": 5,
     "metadata": {},
     "output_type": "execute_result"
    }
   ],
   "source": [
    "all_reviews = []\n",
    "\n",
    "# Start crawling !\n",
    "for name, ids in EXCHANGES.items():\n",
    "    # App Store Reviews\n",
    "    try:\n",
    "        ios_app = AppStore(country=\"us\", app_name=name, app_id=ids['app_store_id'])\n",
    "        ios_app.review(how_many=REVIEW_COUNT)\n",
    "        for review in ios_app.reviews:\n",
    "            text = review.get('review', '')\n",
    "            try:\n",
    "                if detect(text) != 'en':\n",
    "                    continue\n",
    "            except:\n",
    "                continue\n",
    "            all_reviews.append({\n",
    "                'exchange': name,\n",
    "                'platform': 'ios',\n",
    "                'user': review.get('userName'),\n",
    "                'rating': review.get('rating'),\n",
    "                'date': review.get('date'),\n",
    "                'text': text,\n",
    "                'sentiment': get_sentiment(text)\n",
    "            })\n",
    "\n",
    "        print(f\"Fetched {len(ios_app.reviews)} iOS reviews for {name}\")\n",
    "    except Exception as e:\n",
    "        print(f\"Failed to fetch iOS reviews for {name}: {e}\")\n",
    "\n",
    "    # Google Play Reviews\n",
    "    try:\n",
    "        gp_reviews, _ = reviews(\n",
    "            ids['google_play_id'],\n",
    "            lang='en',\n",
    "            country='us',\n",
    "            count=REVIEW_COUNT,\n",
    "            sort=Sort.NEWEST\n",
    "        )\n",
    "        for review in gp_reviews:\n",
    "            text = review.get('content', '')\n",
    "            try:\n",
    "                if detect(text) != 'en':\n",
    "                    continue\n",
    "            except:\n",
    "                continue\n",
    "            all_reviews.append({\n",
    "                'exchange': name,\n",
    "                'platform': 'android',\n",
    "                'user': review.get('userName'),\n",
    "                'rating': review.get('score'),\n",
    "                'date': review.get('at'),\n",
    "                'text': text,\n",
    "                'sentiment': get_sentiment(text)\n",
    "            })\n",
    "\n",
    "        print(f\"Fetched {len(gp_reviews)} Android reviews for {name}\")\n",
    "    except Exception as e:\n",
    "        print(f\"Failed to fetch Android reviews for {name}: {e}\")\n",
    "\n",
    "# Save to CSV\n",
    "reviews_df = pd.DataFrame(all_reviews)\n",
    "reviews_df"
   ]
  },
  {
   "cell_type": "code",
   "execution_count": 6,
   "id": "8f05a7fa",
   "metadata": {},
   "outputs": [],
   "source": [
    "reviews_df.to_csv(APP_OUTPUT_CSV, index=False)"
   ]
  },
  {
   "cell_type": "code",
   "execution_count": null,
   "id": "5ac7ae42",
   "metadata": {},
   "outputs": [],
   "source": []
  }
 ],
 "metadata": {
  "kernelspec": {
   "display_name": "Python 3 (ipykernel)",
   "language": "python",
   "name": "python3"
  },
  "language_info": {
   "codemirror_mode": {
    "name": "ipython",
    "version": 3
   },
   "file_extension": ".py",
   "mimetype": "text/x-python",
   "name": "python",
   "nbconvert_exporter": "python",
   "pygments_lexer": "ipython3",
   "version": "3.9.7"
  }
 },
 "nbformat": 4,
 "nbformat_minor": 5
}
