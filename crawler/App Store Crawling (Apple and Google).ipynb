{
 "cells": [
  {
   "cell_type": "code",
   "execution_count": 6,
   "id": "93824d9c",
   "metadata": {},
   "outputs": [],
   "source": [
    "%%capture\n",
    "!pip install google-play-scraper app-store-scraper textblob"
   ]
  },
  {
   "cell_type": "code",
   "execution_count": 7,
   "id": "c3eab9eb",
   "metadata": {},
   "outputs": [],
   "source": [
    "import pandas as pd\n",
    "from google_play_scraper import reviews, Sort\n",
    "from app_store_scraper import AppStore\n",
    "from textblob import TextBlob\n",
    "from langdetect import detect, DetectorFactory\n",
    "\n",
    "DetectorFactory.seed = 0  # ensures consistent results"
   ]
  },
  {
   "cell_type": "code",
   "execution_count": 8,
   "id": "6fbabcec",
   "metadata": {},
   "outputs": [],
   "source": [
    "# Crypto Exchange Configs for App Store and Play Store\n",
    "EXCHANGES = {\n",
    "    'binance': {\n",
    "        'app_store_id': 1436799971,\n",
    "        'google_play_id': 'com.binance.dev'\n",
    "    },\n",
    "    'coinbase': {\n",
    "        'app_store_id': 886427730,\n",
    "        'google_play_id': 'com.coinbase.android'\n",
    "    },\n",
    "    'kraken': {\n",
    "        'app_store_id': 1436110830,\n",
    "        'google_play_id': 'com.kraken.invest.app'\n",
    "    },\n",
    "    'okx': {\n",
    "        'app_store_id': 1327268470,\n",
    "        'google_play_id': 'com.okinc.okex'\n",
    "    },\n",
    "    'kucoin': {\n",
    "        'app_store_id': 1378956601,\n",
    "        'google_play_id': 'com.kubi.kucoin'\n",
    "    },\n",
    "    'crypto.com': {\n",
    "        'app_store_id': 1262148500,\n",
    "        'google_play_id': 'co.hyperion.crypto'\n",
    "    },\n",
    "    'bybit': {\n",
    "        'app_store_id': 1469939265,\n",
    "        'google_play_id': 'com.bybit.app'\n",
    "    }\n",
    "}\n",
    "\n",
    "REVIEW_COUNT = 400\n",
    "APP_OUTPUT_CSV = '../data/app_crypto_data.csv'"
   ]
  },
  {
   "cell_type": "code",
   "execution_count": 9,
   "id": "17f1e708",
   "metadata": {},
   "outputs": [],
   "source": [
    "def get_sentiment(text):\n",
    "    analysis = TextBlob(text)\n",
    "    if analysis.sentiment.polarity > 0:\n",
    "        return 'positive'\n",
    "    elif analysis.sentiment.polarity == 0:\n",
    "        return 'neutral'\n",
    "    else:\n",
    "        return 'negative'"
   ]
  },
  {
   "cell_type": "code",
   "execution_count": 10,
   "id": "71a06ed6",
   "metadata": {},
   "outputs": [
    {
     "name": "stderr",
     "output_type": "stream",
     "text": [
      "2025-04-07 14:53:40,141 [INFO] Base - Initialised: AppStore('us', 'binance', 1436799971)\n",
      "2025-04-07 14:53:40,142 [INFO] Base - Ready to fetch reviews from: https://apps.apple.com/us/app/binance/id1436799971\n",
      "2025-04-07 14:53:45,442 [INFO] Base - [id:1436799971] Fetched 260 reviews (260 fetched in total)\n",
      "2025-04-07 14:53:48,261 [INFO] Base - [id:1436799971] Fetched 400 reviews (400 fetched in total)\n"
     ]
    },
    {
     "name": "stdout",
     "output_type": "stream",
     "text": [
      "Fetched 400 iOS reviews for binance\n"
     ]
    },
    {
     "name": "stderr",
     "output_type": "stream",
     "text": [
      "2025-04-07 14:53:52,270 [INFO] Base - Initialised: AppStore('us', 'coinbase', 886427730)\n",
      "2025-04-07 14:53:52,271 [INFO] Base - Ready to fetch reviews from: https://apps.apple.com/us/app/coinbase/id886427730\n"
     ]
    },
    {
     "name": "stdout",
     "output_type": "stream",
     "text": [
      "Fetched 400 Android reviews for binance\n"
     ]
    },
    {
     "name": "stderr",
     "output_type": "stream",
     "text": [
      "2025-04-07 14:53:57,552 [INFO] Base - [id:886427730] Fetched 260 reviews (260 fetched in total)\n",
      "2025-04-07 14:54:00,323 [INFO] Base - [id:886427730] Fetched 400 reviews (400 fetched in total)\n"
     ]
    },
    {
     "name": "stdout",
     "output_type": "stream",
     "text": [
      "Fetched 400 iOS reviews for coinbase\n",
      "Fetched 400 Android reviews for coinbase\n"
     ]
    },
    {
     "name": "stderr",
     "output_type": "stream",
     "text": [
      "2025-04-07 14:54:04,484 [INFO] Base - Initialised: AppStore('us', 'kraken', 1436110830)\n",
      "2025-04-07 14:54:04,486 [INFO] Base - Ready to fetch reviews from: https://apps.apple.com/us/app/kraken/id1436110830\n",
      "2025-04-07 14:54:23,438 [ERROR] Base - Something went wrong: HTTPSConnectionPool(host='amp-api.apps.apple.com', port=443): Max retries exceeded with url: /v1/catalog/us/apps/1436110830/reviews?l=en-GB&offset=0&limit=20&platform=web&additionalPlatforms=appletv%2Cipad%2Ciphone%2Cmac (Caused by ResponseError('too many 404 error responses'))\n",
      "2025-04-07 14:54:23,446 [INFO] Base - [id:1436110830] Fetched 0 reviews (0 fetched in total)\n"
     ]
    },
    {
     "name": "stdout",
     "output_type": "stream",
     "text": [
      "Fetched 0 iOS reviews for kraken\n"
     ]
    },
    {
     "name": "stderr",
     "output_type": "stream",
     "text": [
      "2025-04-07 14:54:26,166 [INFO] Base - Initialised: AppStore('us', 'okx', 1327268470)\n",
      "2025-04-07 14:54:26,167 [INFO] Base - Ready to fetch reviews from: https://apps.apple.com/us/app/okx/id1327268470\n"
     ]
    },
    {
     "name": "stdout",
     "output_type": "stream",
     "text": [
      "Fetched 400 Android reviews for kraken\n"
     ]
    },
    {
     "name": "stderr",
     "output_type": "stream",
     "text": [
      "2025-04-07 14:54:31,200 [INFO] Base - [id:1327268470] Fetched 260 reviews (260 fetched in total)\n",
      "2025-04-07 14:54:33,981 [INFO] Base - [id:1327268470] Fetched 400 reviews (400 fetched in total)\n"
     ]
    },
    {
     "name": "stdout",
     "output_type": "stream",
     "text": [
      "Fetched 400 iOS reviews for okx\n"
     ]
    },
    {
     "name": "stderr",
     "output_type": "stream",
     "text": [
      "2025-04-07 14:54:36,318 [INFO] Base - Initialised: AppStore('us', 'kucoin', 1378956601)\n",
      "2025-04-07 14:54:36,318 [INFO] Base - Ready to fetch reviews from: https://apps.apple.com/us/app/kucoin/id1378956601\n"
     ]
    },
    {
     "name": "stdout",
     "output_type": "stream",
     "text": [
      "Fetched 148 Android reviews for okx\n"
     ]
    },
    {
     "name": "stderr",
     "output_type": "stream",
     "text": [
      "2025-04-07 14:54:40,587 [INFO] Base - [id:1378956601] Fetched 400 reviews (400 fetched in total)\n"
     ]
    },
    {
     "name": "stdout",
     "output_type": "stream",
     "text": [
      "Fetched 400 iOS reviews for kucoin\n"
     ]
    },
    {
     "name": "stderr",
     "output_type": "stream",
     "text": [
      "2025-04-07 14:54:44,570 [INFO] Base - Initialised: AppStore('us', 'crypto-com', 1262148500)\n",
      "2025-04-07 14:54:44,571 [INFO] Base - Ready to fetch reviews from: https://apps.apple.com/us/app/crypto-com/id1262148500\n"
     ]
    },
    {
     "name": "stdout",
     "output_type": "stream",
     "text": [
      "Fetched 400 Android reviews for kucoin\n"
     ]
    },
    {
     "name": "stderr",
     "output_type": "stream",
     "text": [
      "2025-04-07 14:54:49,225 [INFO] Base - [id:1262148500] Fetched 400 reviews (400 fetched in total)\n"
     ]
    },
    {
     "name": "stdout",
     "output_type": "stream",
     "text": [
      "Fetched 400 iOS reviews for crypto.com\n",
      "Fetched 0 Android reviews for crypto.com\n"
     ]
    },
    {
     "name": "stderr",
     "output_type": "stream",
     "text": [
      "2025-04-07 14:54:51,007 [INFO] Base - Initialised: AppStore('us', 'bybit', 1469939265)\n",
      "2025-04-07 14:54:51,008 [INFO] Base - Ready to fetch reviews from: https://apps.apple.com/us/app/bybit/id1469939265\n",
      "2025-04-07 14:55:09,905 [ERROR] Base - Something went wrong: HTTPSConnectionPool(host='amp-api.apps.apple.com', port=443): Max retries exceeded with url: /v1/catalog/us/apps/1469939265/reviews?l=en-GB&offset=0&limit=20&platform=web&additionalPlatforms=appletv%2Cipad%2Ciphone%2Cmac (Caused by ResponseError('too many 404 error responses'))\n",
      "2025-04-07 14:55:09,915 [INFO] Base - [id:1469939265] Fetched 0 reviews (0 fetched in total)\n"
     ]
    },
    {
     "name": "stdout",
     "output_type": "stream",
     "text": [
      "Fetched 0 iOS reviews for bybit\n",
      "Fetched 400 Android reviews for bybit\n"
     ]
    },
    {
     "data": {
      "text/html": [
       "<div>\n",
       "<style scoped>\n",
       "    .dataframe tbody tr th:only-of-type {\n",
       "        vertical-align: middle;\n",
       "    }\n",
       "\n",
       "    .dataframe tbody tr th {\n",
       "        vertical-align: top;\n",
       "    }\n",
       "\n",
       "    .dataframe thead th {\n",
       "        text-align: right;\n",
       "    }\n",
       "</style>\n",
       "<table border=\"1\" class=\"dataframe\">\n",
       "  <thead>\n",
       "    <tr style=\"text-align: right;\">\n",
       "      <th></th>\n",
       "      <th>exchange</th>\n",
       "      <th>platform</th>\n",
       "      <th>user</th>\n",
       "      <th>rating</th>\n",
       "      <th>date</th>\n",
       "      <th>text</th>\n",
       "    </tr>\n",
       "  </thead>\n",
       "  <tbody>\n",
       "    <tr>\n",
       "      <th>0</th>\n",
       "      <td>binance</td>\n",
       "      <td>ios</td>\n",
       "      <td>James4all</td>\n",
       "      <td>5</td>\n",
       "      <td>2023-10-04 08:23:28</td>\n",
       "      <td>How can someone set stop lose and take profit ...</td>\n",
       "    </tr>\n",
       "    <tr>\n",
       "      <th>1</th>\n",
       "      <td>binance</td>\n",
       "      <td>ios</td>\n",
       "      <td>Zionsb</td>\n",
       "      <td>1</td>\n",
       "      <td>2023-05-24 00:13:10</td>\n",
       "      <td>I have been using Binance for a little bit, ev...</td>\n",
       "    </tr>\n",
       "    <tr>\n",
       "      <th>2</th>\n",
       "      <td>binance</td>\n",
       "      <td>ios</td>\n",
       "      <td>Username: Courtney</td>\n",
       "      <td>2</td>\n",
       "      <td>2021-04-11 18:25:51</td>\n",
       "      <td>The only thing good about the app is it’s inte...</td>\n",
       "    </tr>\n",
       "    <tr>\n",
       "      <th>3</th>\n",
       "      <td>binance</td>\n",
       "      <td>ios</td>\n",
       "      <td>joshdammit</td>\n",
       "      <td>1</td>\n",
       "      <td>2023-06-15 10:57:52</td>\n",
       "      <td>Got an email last week saying binance is shutt...</td>\n",
       "    </tr>\n",
       "    <tr>\n",
       "      <th>4</th>\n",
       "      <td>binance</td>\n",
       "      <td>ios</td>\n",
       "      <td>King Banks M</td>\n",
       "      <td>1</td>\n",
       "      <td>2021-05-05 17:13:25</td>\n",
       "      <td>I’ve been trying to buy crypto for a while now...</td>\n",
       "    </tr>\n",
       "    <tr>\n",
       "      <th>...</th>\n",
       "      <td>...</td>\n",
       "      <td>...</td>\n",
       "      <td>...</td>\n",
       "      <td>...</td>\n",
       "      <td>...</td>\n",
       "      <td>...</td>\n",
       "    </tr>\n",
       "    <tr>\n",
       "      <th>3349</th>\n",
       "      <td>bybit</td>\n",
       "      <td>android</td>\n",
       "      <td>auwal abdullahi</td>\n",
       "      <td>5</td>\n",
       "      <td>2025-03-01 23:48:35</td>\n",
       "      <td>Good business</td>\n",
       "    </tr>\n",
       "    <tr>\n",
       "      <th>3350</th>\n",
       "      <td>bybit</td>\n",
       "      <td>android</td>\n",
       "      <td>Osasuyi Esemuede</td>\n",
       "      <td>4</td>\n",
       "      <td>2025-03-01 23:36:17</td>\n",
       "      <td>sharp and fluidy to use with lots of fun. Rout...</td>\n",
       "    </tr>\n",
       "    <tr>\n",
       "      <th>3351</th>\n",
       "      <td>bybit</td>\n",
       "      <td>android</td>\n",
       "      <td>Sulton Mohammed</td>\n",
       "      <td>5</td>\n",
       "      <td>2025-03-01 22:36:05</td>\n",
       "      <td>I so much love this app</td>\n",
       "    </tr>\n",
       "    <tr>\n",
       "      <th>3352</th>\n",
       "      <td>bybit</td>\n",
       "      <td>android</td>\n",
       "      <td>srinivas</td>\n",
       "      <td>5</td>\n",
       "      <td>2025-03-01 22:07:45</td>\n",
       "      <td>The app is very good.</td>\n",
       "    </tr>\n",
       "    <tr>\n",
       "      <th>3353</th>\n",
       "      <td>bybit</td>\n",
       "      <td>android</td>\n",
       "      <td>Easin</td>\n",
       "      <td>5</td>\n",
       "      <td>2025-03-01 21:22:01</td>\n",
       "      <td>Good App</td>\n",
       "    </tr>\n",
       "  </tbody>\n",
       "</table>\n",
       "<p>3354 rows × 6 columns</p>\n",
       "</div>"
      ],
      "text/plain": [
       "     exchange platform                user  rating                date  \\\n",
       "0     binance      ios           James4all       5 2023-10-04 08:23:28   \n",
       "1     binance      ios              Zionsb       1 2023-05-24 00:13:10   \n",
       "2     binance      ios  Username: Courtney       2 2021-04-11 18:25:51   \n",
       "3     binance      ios          joshdammit       1 2023-06-15 10:57:52   \n",
       "4     binance      ios        King Banks M       1 2021-05-05 17:13:25   \n",
       "...       ...      ...                 ...     ...                 ...   \n",
       "3349    bybit  android     auwal abdullahi       5 2025-03-01 23:48:35   \n",
       "3350    bybit  android    Osasuyi Esemuede       4 2025-03-01 23:36:17   \n",
       "3351    bybit  android     Sulton Mohammed       5 2025-03-01 22:36:05   \n",
       "3352    bybit  android            srinivas       5 2025-03-01 22:07:45   \n",
       "3353    bybit  android               Easin       5 2025-03-01 21:22:01   \n",
       "\n",
       "                                                   text  \n",
       "0     How can someone set stop lose and take profit ...  \n",
       "1     I have been using Binance for a little bit, ev...  \n",
       "2     The only thing good about the app is it’s inte...  \n",
       "3     Got an email last week saying binance is shutt...  \n",
       "4     I’ve been trying to buy crypto for a while now...  \n",
       "...                                                 ...  \n",
       "3349                                      Good business  \n",
       "3350  sharp and fluidy to use with lots of fun. Rout...  \n",
       "3351                            I so much love this app  \n",
       "3352                              The app is very good.  \n",
       "3353                                           Good App  \n",
       "\n",
       "[3354 rows x 6 columns]"
      ]
     },
     "execution_count": 10,
     "metadata": {},
     "output_type": "execute_result"
    }
   ],
   "source": [
    "all_reviews = []\n",
    "\n",
    "# Start crawling !\n",
    "for name, ids in EXCHANGES.items():\n",
    "    # App Store Reviews\n",
    "    try:\n",
    "        ios_app = AppStore(country=\"us\", app_name=name, app_id=ids['app_store_id'])\n",
    "        ios_app.review(how_many=REVIEW_COUNT)\n",
    "        for review in ios_app.reviews:\n",
    "            text = review.get('review', '')\n",
    "            try:\n",
    "                if detect(text) != 'en':\n",
    "                    continue\n",
    "            except:\n",
    "                continue\n",
    "            all_reviews.append({\n",
    "                'exchange': name,\n",
    "                'platform': 'ios',\n",
    "                'user': review.get('userName'),\n",
    "                'rating': review.get('rating'),\n",
    "                'date': review.get('date'),\n",
    "                'text': text,\n",
    "                #'sentiment': get_sentiment(text)\n",
    "            })\n",
    "\n",
    "        print(f\"Fetched {len(ios_app.reviews)} iOS reviews for {name}\")\n",
    "    except Exception as e:\n",
    "        print(f\"Failed to fetch iOS reviews for {name}: {e}\")\n",
    "\n",
    "    # Google Play Reviews\n",
    "    try:\n",
    "        gp_reviews, _ = reviews(\n",
    "            ids['google_play_id'],\n",
    "            lang='en',\n",
    "            country='us',\n",
    "            count=REVIEW_COUNT,\n",
    "            sort=Sort.NEWEST\n",
    "        )\n",
    "        for review in gp_reviews:\n",
    "            text = review.get('content', '')\n",
    "            try:\n",
    "                if detect(text) != 'en':\n",
    "                    continue\n",
    "            except:\n",
    "                continue\n",
    "            all_reviews.append({\n",
    "                'exchange': name,\n",
    "                'platform': 'android',\n",
    "                'user': review.get('userName'),\n",
    "                'rating': review.get('score'),\n",
    "                'date': review.get('at'),\n",
    "                'text': text,\n",
    "                #'sentiment': get_sentiment(text)\n",
    "            })\n",
    "\n",
    "        print(f\"Fetched {len(gp_reviews)} Android reviews for {name}\")\n",
    "    except Exception as e:\n",
    "        print(f\"Failed to fetch Android reviews for {name}: {e}\")\n",
    "\n",
    "# Save to CSV\n",
    "reviews_df = pd.DataFrame(all_reviews)\n",
    "reviews_df"
   ]
  },
  {
   "cell_type": "code",
   "execution_count": 11,
   "id": "8f05a7fa",
   "metadata": {},
   "outputs": [],
   "source": [
    "reviews_df.to_csv(APP_OUTPUT_CSV, index=False)"
   ]
  },
  {
   "cell_type": "code",
   "execution_count": null,
   "id": "5ac7ae42",
   "metadata": {},
   "outputs": [],
   "source": []
  }
 ],
 "metadata": {
  "kernelspec": {
   "display_name": "Python 3 (ipykernel)",
   "language": "python",
   "name": "python3"
  },
  "language_info": {
   "codemirror_mode": {
    "name": "ipython",
    "version": 3
   },
   "file_extension": ".py",
   "mimetype": "text/x-python",
   "name": "python",
   "nbconvert_exporter": "python",
   "pygments_lexer": "ipython3",
   "version": "3.9.7"
  }
 },
 "nbformat": 4,
 "nbformat_minor": 5
}
