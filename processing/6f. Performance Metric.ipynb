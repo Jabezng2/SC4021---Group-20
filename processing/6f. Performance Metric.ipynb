{
 "cells": [
  {
   "cell_type": "code",
   "execution_count": 1,
   "metadata": {},
   "outputs": [
    {
     "name": "stderr",
     "output_type": "stream",
     "text": [
      "[nltk_data] Downloading package vader_lexicon to\n",
      "[nltk_data]     C:\\Users\\lingyi\\AppData\\Roaming\\nltk_data...\n",
      "[nltk_data]   Package vader_lexicon is already up-to-date!\n"
     ]
    },
    {
     "data": {
      "text/plain": [
       "True"
      ]
     },
     "execution_count": 1,
     "metadata": {},
     "output_type": "execute_result"
    }
   ],
   "source": [
    "# --- 1. Setup and Imports ---\n",
    "import pandas as pd\n",
    "import numpy as np\n",
    "import time\n",
    "import random\n",
    "import os\n",
    "import matplotlib.pyplot as plt\n",
    "import seaborn as sns\n",
    "\n",
    "from sklearn.model_selection import train_test_split\n",
    "from sklearn.feature_extraction.text import CountVectorizer\n",
    "from sklearn.pipeline import Pipeline\n",
    "from sklearn.naive_bayes import MultinomialNB\n",
    "from sklearn.ensemble import RandomForestClassifier\n",
    "from sklearn.metrics import classification_report, confusion_matrix, precision_recall_curve, average_precision_score, accuracy_score\n",
    "from sklearn.preprocessing import label_binarize\n",
    "\n",
    "from nltk.sentiment.vader import SentimentIntensityAnalyzer\n",
    "from textblob import TextBlob\n",
    "import nltk\n",
    "nltk.download('vader_lexicon')"
   ]
  },
  {
   "cell_type": "code",
   "execution_count": 2,
   "metadata": {},
   "outputs": [
    {
     "name": "stdout",
     "output_type": "stream",
     "text": [
      "Loading manually labeled 1000-row dataset...\n",
      "Evaluation dataset ready: 1092 rows\n"
     ]
    }
   ],
   "source": [
    "# --- 2. Load 1000 Labeled Evaluation Data ---\n",
    "print(\"Loading manually labeled 1000-row dataset...\")\n",
    "base_path = os.path.abspath(os.path.join(os.getcwd(), '..'))\n",
    "data_path = os.path.join(base_path, \"data\")\n",
    "\n",
    "# Load labeled polarity & subjectivity\n",
    "polarity_file = os.path.join(data_path, \"1000_GT_polarity_labels.csv\")\n",
    "subjectivity_file = os.path.join(data_path, \"1000_GT_subj_labels.csv\")\n",
    "\n",
    "df_polarity = pd.read_csv(polarity_file)\n",
    "df_subjectivity = pd.read_csv(subjectivity_file)\n",
    "\n",
    "# Clean column names\n",
    "pol_cols = [col.strip().replace(\" \", \"_\").replace(\".\", \"\") for col in df_polarity.columns]\n",
    "subj_cols = [col.strip().replace(\" \", \"_\").replace(\".\", \"\") for col in df_subjectivity.columns]\n",
    "df_polarity.columns = pol_cols\n",
    "df_subjectivity.columns = subj_cols\n",
    "\n",
    "# Merge both by cleaned_text\n",
    "df_eval = pd.merge(\n",
    "    df_polarity[[\"cleaned_text\", \"GT_Polarity_Label\"]],\n",
    "    df_subjectivity[[\"cleaned_text\", \"GT_Subjective_Label\"]],\n",
    "    on=\"cleaned_text\", how=\"inner\"\n",
    ")\n",
    "print(f\"Evaluation dataset ready: {df_eval.shape[0]} rows\")"
   ]
  },
  {
   "cell_type": "code",
   "execution_count": 3,
   "metadata": {},
   "outputs": [
    {
     "name": "stdout",
     "output_type": "stream",
     "text": [
      "\n",
      "=== Training Time and Inference Benchmarks ===\n"
     ]
    }
   ],
   "source": [
    "# --- Performance Benchmarking for Q4f ---\n",
    "print(\"\\n=== Training Time and Inference Benchmarks ===\")\n",
    "benchmark_results = []\n"
   ]
  },
  {
   "cell_type": "code",
   "execution_count": 4,
   "metadata": {},
   "outputs": [
    {
     "name": "stdout",
     "output_type": "stream",
     "text": [
      "\n",
      "=== Subjectivity Classification ===\n",
      "Random Forest Subjectivity Report:\n",
      "              precision    recall  f1-score   support\n",
      "\n",
      "   Objective       0.78      0.37      0.50       102\n",
      "  Subjective       0.62      0.91      0.74       117\n",
      "\n",
      "    accuracy                           0.66       219\n",
      "   macro avg       0.70      0.64      0.62       219\n",
      "weighted avg       0.69      0.66      0.63       219\n",
      "\n",
      "Naive Bayes Subjectivity Report:\n",
      "              precision    recall  f1-score   support\n",
      "\n",
      "   Objective       0.76      0.38      0.51       102\n",
      "  Subjective       0.62      0.90      0.74       117\n",
      "\n",
      "    accuracy                           0.66       219\n",
      "   macro avg       0.69      0.64      0.62       219\n",
      "weighted avg       0.69      0.66      0.63       219\n",
      "\n"
     ]
    }
   ],
   "source": [
    "# --- 3. Subjectivity Classification (Random Forest & Naive Bayes) ---\n",
    "print(\"\\n=== Subjectivity Classification ===\")\n",
    "X_subj = df_eval[\"cleaned_text\"]\n",
    "y_subj = df_eval[\"GT_Subjective_Label\"]\n",
    "X_train_subj, X_test_subj, y_train_subj, y_test_subj = train_test_split(X_subj, y_subj, test_size=0.2, random_state=42)\n",
    "\n",
    "# Random Forest Subjectivity\n",
    "pipeline_subj_rf = Pipeline([\n",
    "    ('vectorizer', CountVectorizer()),\n",
    "    ('clf', RandomForestClassifier(random_state=42))\n",
    "])\n",
    "t0 = time.time()\n",
    "pipeline_subj_rf.fit(X_train_subj, y_train_subj)\n",
    "t1 = time.time()\n",
    "y_pred_subj_rf = pipeline_subj_rf.predict(X_test_subj)\n",
    "t2 = time.time()\n",
    "benchmark_results.append([\"Random Forest (Subjective)\", round(t1 - t0, 2), round(t2 - t1, 2), accuracy_score(y_test_subj, y_pred_subj_rf)])\n",
    "\n",
    "print(\"Random Forest Subjectivity Report:\")\n",
    "print(classification_report(y_test_subj, y_pred_subj_rf, target_names=[\"Objective\", \"Subjective\"]))\n",
    "\n",
    "# Naive Bayes Subjectivity\n",
    "pipeline_subj_nb = Pipeline([\n",
    "    ('vectorizer', CountVectorizer()),\n",
    "    ('clf', MultinomialNB())\n",
    "])\n",
    "t0 = time.time()\n",
    "pipeline_subj_nb.fit(X_train_subj, y_train_subj)\n",
    "t1 = time.time()\n",
    "y_pred_subj_nb = pipeline_subj_nb.predict(X_test_subj)\n",
    "t2 = time.time()\n",
    "benchmark_results.append([\"Naive Bayes (Subjective)\", round(t1 - t0, 2), round(t2 - t1, 2), accuracy_score(y_test_subj, y_pred_subj_nb)])\n",
    "\n",
    "print(\"Naive Bayes Subjectivity Report:\")\n",
    "print(classification_report(y_test_subj, y_pred_subj_nb, target_names=[\"Objective\", \"Subjective\"]))"
   ]
  },
  {
   "cell_type": "code",
   "execution_count": 5,
   "metadata": {},
   "outputs": [
    {
     "name": "stdout",
     "output_type": "stream",
     "text": [
      "\n",
      "=== Polarity Classification ===\n"
     ]
    }
   ],
   "source": [
    "\n",
    "# --- 4. Polarity Classification (Random Forest & Naive Bayes) ---\n",
    "print(\"\\n=== Polarity Classification ===\")\n",
    "X_pol = df_eval[\"cleaned_text\"]\n",
    "y_pol = df_eval[\"GT_Polarity_Label\"]\n",
    "X_train_pol, X_test_pol, y_train_pol, y_test_pol = train_test_split(X_pol, y_pol, test_size=0.2, stratify=y_pol, random_state=42)\n",
    "\n",
    "# Naive Bayes Polarity\n",
    "pipeline_nb = Pipeline([\n",
    "    ('vectorizer', CountVectorizer()),\n",
    "    ('clf', MultinomialNB())\n",
    "])\n",
    "t0 = time.time()\n",
    "pipeline_nb.fit(X_train_pol, y_train_pol)\n",
    "t1 = time.time()\n",
    "y_pred_nb = pipeline_nb.predict(X_test_pol)\n",
    "t2 = time.time()\n",
    "benchmark_results.append([\"Naive Bayes (Polarity)\", round(t1 - t0, 2), round(t2 - t1, 2), accuracy_score(y_test_pol, y_pred_nb)])\n",
    "\n",
    "# Random Forest Polarity\n",
    "pipeline_rf = Pipeline([\n",
    "    ('vectorizer', CountVectorizer()),\n",
    "    ('clf', RandomForestClassifier(random_state=42))\n",
    "])\n",
    "t0 = time.time()\n",
    "pipeline_rf.fit(X_train_pol, y_train_pol)\n",
    "t1 = time.time()\n",
    "y_pred_rf = pipeline_rf.predict(X_test_pol)\n",
    "t2 = time.time()\n",
    "benchmark_results.append([\"Random Forest (Polarity)\", round(t1 - t0, 2), round(t2 - t1, 2), accuracy_score(y_test_pol, y_pred_rf)])\n",
    "\n",
    "# VADER\n",
    "sia = SentimentIntensityAnalyzer()\n",
    "t0 = time.time()\n",
    "def vader_predict(text):\n",
    "    score = sia.polarity_scores(text)[\"compound\"]\n",
    "    return 1 if score >= 0.05 else 0 if score <= -0.05 else 2\n",
    "y_pred_vader = df_eval[\"cleaned_text\"].apply(vader_predict)\n",
    "t1 = time.time()\n",
    "benchmark_results.append([\"VADER\", 0.00, round(t1 - t0, 2), accuracy_score(y_pol, y_pred_vader)])\n",
    "\n",
    "# TextBlob\n",
    "from textblob import TextBlob\n",
    "t0 = time.time()\n",
    "def textblob_predict(text):\n",
    "    polarity = TextBlob(text).sentiment.polarity\n",
    "    return 1 if polarity > 0.1 else 0 if polarity < -0.1 else 2\n",
    "y_pred_blob = df_eval[\"cleaned_text\"].apply(textblob_predict)\n",
    "t1 = time.time()\n",
    "benchmark_results.append([\"TextBlob\", 0.00, round(t1 - t0, 2), accuracy_score(y_pol, y_pred_blob)])\n"
   ]
  },
  {
   "cell_type": "code",
   "execution_count": 6,
   "metadata": {},
   "outputs": [
    {
     "name": "stdout",
     "output_type": "stream",
     "text": [
      "\n",
      "=== Performance Benchmark Table (Q4f) ===\n",
      "                     Model  Train Time (s)  Inference Time (s)  Accuracy\n",
      "Random Forest (Subjective)            1.00                0.02  0.657534\n",
      "  Naive Bayes (Subjective)            0.02                0.01  0.657534\n",
      "    Naive Bayes (Polarity)            0.03                0.01  0.561644\n",
      "  Random Forest (Polarity)            1.14                0.02  0.589041\n",
      "                     VADER            0.00                0.27  0.542125\n",
      "                  TextBlob            0.00                0.28  0.489011\n"
     ]
    }
   ],
   "source": [
    "\n",
    "# --- Summary Table ---\n",
    "benchmark_df = pd.DataFrame(benchmark_results, columns=[\"Model\", \"Train Time (s)\", \"Inference Time (s)\", \"Accuracy\"])\n",
    "print(\"\\n=== Performance Benchmark Table (Q4f) ===\")\n",
    "print(benchmark_df.to_string(index=False))\n"
   ]
  },
  {
   "cell_type": "code",
   "execution_count": null,
   "metadata": {},
   "outputs": [],
   "source": []
  }
 ],
 "metadata": {
  "kernelspec": {
   "display_name": "venv",
   "language": "python",
   "name": "python3"
  },
  "language_info": {
   "codemirror_mode": {
    "name": "ipython",
    "version": 3
   },
   "file_extension": ".py",
   "mimetype": "text/x-python",
   "name": "python",
   "nbconvert_exporter": "python",
   "pygments_lexer": "ipython3",
   "version": "3.12.4"
  }
 },
 "nbformat": 4,
 "nbformat_minor": 2
}
