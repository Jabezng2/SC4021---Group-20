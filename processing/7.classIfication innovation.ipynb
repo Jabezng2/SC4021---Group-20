{
 "cells": [
  {
   "cell_type": "code",
   "execution_count": 17,
   "id": "3fbcf865",
   "metadata": {},
   "outputs": [
    {
     "name": "stderr",
     "output_type": "stream",
     "text": [
      "[nltk_data] Downloading package vader_lexicon to\n",
      "[nltk_data]     C:\\Users\\lingyi\\AppData\\Roaming\\nltk_data...\n",
      "[nltk_data]   Package vader_lexicon is already up-to-date!\n"
     ]
    },
    {
     "data": {
      "text/plain": [
       "True"
      ]
     },
     "execution_count": 17,
     "metadata": {},
     "output_type": "execute_result"
    }
   ],
   "source": [
    "# --- 1. Setup and Imports ---\n",
    "import pandas as pd\n",
    "import numpy as np\n",
    "import time\n",
    "import random\n",
    "import os\n",
    "import matplotlib.pyplot as plt\n",
    "import seaborn as sns\n",
    "\n",
    "from sklearn.model_selection import train_test_split\n",
    "from sklearn.feature_extraction.text import CountVectorizer\n",
    "from sklearn.pipeline import Pipeline\n",
    "from sklearn.naive_bayes import MultinomialNB\n",
    "from sklearn.ensemble import RandomForestClassifier, VotingClassifier\n",
    "from sklearn.metrics import classification_report, confusion_matrix, precision_recall_curve, average_precision_score, accuracy_score\n",
    "from sklearn.preprocessing import label_binarize\n",
    "\n",
    "from nltk.sentiment.vader import SentimentIntensityAnalyzer\n",
    "from textblob import TextBlob\n",
    "import nltk\n",
    "nltk.download('vader_lexicon')"
   ]
  },
  {
   "cell_type": "code",
   "execution_count": 18,
   "id": "263582e1",
   "metadata": {},
   "outputs": [
    {
     "name": "stdout",
     "output_type": "stream",
     "text": [
      "Loading manually labeled 1000-row dataset...\n",
      "Evaluation dataset ready: 1092 rows\n"
     ]
    }
   ],
   "source": [
    "# --- 2. Load 1000 Labeled Evaluation Data ---\n",
    "print(\"Loading manually labeled 1000-row dataset...\")\n",
    "base_path = os.path.abspath(os.path.join(os.getcwd(), '..'))\n",
    "data_path = os.path.join(base_path, \"data\")\n",
    "\n",
    "# Load labeled polarity & subjectivity\n",
    "polarity_file = os.path.join(data_path, \"1000_GT_polarity_labels.csv\")\n",
    "subjectivity_file = os.path.join(data_path, \"1000_GT_subj_labels.csv\")\n",
    "\n",
    "df_polarity = pd.read_csv(polarity_file)\n",
    "df_subjectivity = pd.read_csv(subjectivity_file)\n",
    "\n",
    "# Clean column names\n",
    "pol_cols = [col.strip().replace(\" \", \"_\").replace(\".\", \"\") for col in df_polarity.columns]\n",
    "subj_cols = [col.strip().replace(\" \", \"_\").replace(\".\", \"\") for col in df_subjectivity.columns]\n",
    "df_polarity.columns = pol_cols\n",
    "df_subjectivity.columns = subj_cols\n",
    "\n",
    "# Merge both by cleaned_text\n",
    "df_eval = pd.merge(\n",
    "    df_polarity[[\"cleaned_text\", \"GT_Polarity_Label\"]],\n",
    "    df_subjectivity[[\"cleaned_text\", \"GT_Subjective_Label\"]],\n",
    "    on=\"cleaned_text\", how=\"inner\"\n",
    ")\n",
    "print(f\"Evaluation dataset ready: {df_eval.shape[0]} rows\")\n"
   ]
  },
  {
   "cell_type": "code",
   "execution_count": 19,
   "id": "a960dc78",
   "metadata": {},
   "outputs": [
    {
     "name": "stdout",
     "output_type": "stream",
     "text": [
      "\n",
      "=== Training Time and Inference Benchmarks ===\n"
     ]
    }
   ],
   "source": [
    "# --- Performance Benchmarking for Q4f ---\n",
    "print(\"\\n=== Training Time and Inference Benchmarks ===\")\n",
    "benchmark_results = []"
   ]
  },
  {
   "cell_type": "code",
   "execution_count": 20,
   "id": "ee09e712",
   "metadata": {},
   "outputs": [
    {
     "name": "stdout",
     "output_type": "stream",
     "text": [
      "\n",
      "=== Subjectivity Classification ===\n",
      "Random Forest Subjectivity Report:\n",
      "              precision    recall  f1-score   support\n",
      "\n",
      "   Objective       0.78      0.37      0.50       102\n",
      "  Subjective       0.62      0.91      0.74       117\n",
      "\n",
      "    accuracy                           0.66       219\n",
      "   macro avg       0.70      0.64      0.62       219\n",
      "weighted avg       0.69      0.66      0.63       219\n",
      "\n",
      "Naive Bayes Subjectivity Report:\n",
      "              precision    recall  f1-score   support\n",
      "\n",
      "   Objective       0.76      0.38      0.51       102\n",
      "  Subjective       0.62      0.90      0.74       117\n",
      "\n",
      "    accuracy                           0.66       219\n",
      "   macro avg       0.69      0.64      0.62       219\n",
      "weighted avg       0.69      0.66      0.63       219\n",
      "\n"
     ]
    }
   ],
   "source": [
    "# --- 3. Subjectivity Classification (Random Forest & Naive Bayes) ---\n",
    "print(\"\\n=== Subjectivity Classification ===\")\n",
    "X_subj = df_eval[\"cleaned_text\"]\n",
    "y_subj = df_eval[\"GT_Subjective_Label\"]\n",
    "X_train_subj, X_test_subj, y_train_subj, y_test_subj = train_test_split(X_subj, y_subj, test_size=0.2, random_state=42)\n",
    "\n",
    "# Random Forest Subjectivity\n",
    "pipeline_subj_rf = Pipeline([\n",
    "    ('vectorizer', CountVectorizer()),\n",
    "    ('clf', RandomForestClassifier(random_state=42))\n",
    "])\n",
    "t0 = time.time()\n",
    "pipeline_subj_rf.fit(X_train_subj, y_train_subj)\n",
    "t1 = time.time()\n",
    "y_pred_subj_rf = pipeline_subj_rf.predict(X_test_subj)\n",
    "t2 = time.time()\n",
    "benchmark_results.append([\"Random Forest (Subjective)\", round(t1 - t0, 2), round(t2 - t1, 2), accuracy_score(y_test_subj, y_pred_subj_rf)])\n",
    "\n",
    "print(\"Random Forest Subjectivity Report:\")\n",
    "print(classification_report(y_test_subj, y_pred_subj_rf, target_names=[\"Objective\", \"Subjective\"]))\n",
    "\n",
    "# Naive Bayes Subjectivity\n",
    "pipeline_subj_nb = Pipeline([\n",
    "    ('vectorizer', CountVectorizer()),\n",
    "    ('clf', MultinomialNB())\n",
    "])\n",
    "t0 = time.time()\n",
    "pipeline_subj_nb.fit(X_train_subj, y_train_subj)\n",
    "t1 = time.time()\n",
    "y_pred_subj_nb = pipeline_subj_nb.predict(X_test_subj)\n",
    "t2 = time.time()\n",
    "benchmark_results.append([\"Naive Bayes (Subjective)\", round(t1 - t0, 2), round(t2 - t1, 2), accuracy_score(y_test_subj, y_pred_subj_nb)])\n",
    "\n",
    "print(\"Naive Bayes Subjectivity Report:\")\n",
    "print(classification_report(y_test_subj, y_pred_subj_nb, target_names=[\"Objective\", \"Subjective\"]))\n"
   ]
  },
  {
   "cell_type": "code",
   "execution_count": 21,
   "id": "ca0ace6f",
   "metadata": {},
   "outputs": [
    {
     "name": "stdout",
     "output_type": "stream",
     "text": [
      "\n",
      "=== Polarity Classification ===\n"
     ]
    }
   ],
   "source": [
    "# --- 4. Polarity Classification (Random Forest & Naive Bayes) ---\n",
    "print(\"\\n=== Polarity Classification ===\")\n",
    "X_pol = df_eval[\"cleaned_text\"]\n",
    "y_pol = df_eval[\"GT_Polarity_Label\"]\n",
    "X_train_pol, X_test_pol, y_train_pol, y_test_pol = train_test_split(X_pol, y_pol, test_size=0.2, stratify=y_pol, random_state=42)\n",
    "\n",
    "# Naive Bayes Polarity\n",
    "pipeline_nb = Pipeline([\n",
    "    ('vectorizer', CountVectorizer()),\n",
    "    ('clf', MultinomialNB())\n",
    "])\n",
    "t0 = time.time()\n",
    "pipeline_nb.fit(X_train_pol, y_train_pol)\n",
    "t1 = time.time()\n",
    "y_pred_nb = pipeline_nb.predict(X_test_pol)\n",
    "t2 = time.time()\n",
    "benchmark_results.append([\"Naive Bayes (Polarity)\", round(t1 - t0, 2), round(t2 - t1, 2), accuracy_score(y_test_pol, y_pred_nb)])\n",
    "\n",
    "# Random Forest Polarity\n",
    "pipeline_rf = Pipeline([\n",
    "    ('vectorizer', CountVectorizer()),\n",
    "    ('clf', RandomForestClassifier(random_state=42))\n",
    "])\n",
    "t0 = time.time()\n",
    "pipeline_rf.fit(X_train_pol, y_train_pol)\n",
    "t1 = time.time()\n",
    "y_pred_rf = pipeline_rf.predict(X_test_pol)\n",
    "t2 = time.time()\n",
    "benchmark_results.append([\"Random Forest (Polarity)\", round(t1 - t0, 2), round(t2 - t1, 2), accuracy_score(y_test_pol, y_pred_rf)])\n"
   ]
  },
  {
   "cell_type": "code",
   "execution_count": 22,
   "id": "bff65b49",
   "metadata": {},
   "outputs": [],
   "source": [
    "import matplotlib.pyplot as plt\n",
    "from sklearn.metrics import confusion_matrix, ConfusionMatrixDisplay\n",
    "\n",
    "# Create function to plot confusion matrix\n",
    "def plot_confusion_matrix(y_true, y_pred, title=\"Confusion Matrix\"):\n",
    "    cm = confusion_matrix(y_true, y_pred)\n",
    "    disp = ConfusionMatrixDisplay(confusion_matrix=cm)\n",
    "    disp.plot(cmap='Blues')\n",
    "    plt.title(title)\n",
    "    plt.show()\n"
   ]
  },
  {
   "cell_type": "code",
   "execution_count": 27,
   "id": "1464e625",
   "metadata": {},
   "outputs": [
    {
     "name": "stdout",
     "output_type": "stream",
     "text": [
      "\n",
      "=== Q5: Innovation Study (NER + ABSA + Ensemble) ===\n",
      "Performing ABSA on 'coin_listings'...\n",
      "ABSA (Coin Listings Sentiment on Eval Set) Classification Report:\n",
      "              precision    recall  f1-score   support\n",
      "\n",
      "           0       0.81      0.99      0.89       167\n",
      "           1       1.00      1.00      1.00     10844\n",
      "\n",
      "    accuracy                           1.00     11011\n",
      "   macro avg       0.90      1.00      0.94     11011\n",
      "weighted avg       1.00      1.00      1.00     11011\n",
      "\n",
      "Performing NER-enhanced classification...\n",
      "NER-enhanced (on Eval Set) Classification Report:\n",
      "              precision    recall  f1-score   support\n",
      "\n",
      "           0       0.64      0.86      0.74        58\n",
      "           1       0.00      0.00      0.00        15\n",
      "           2       0.50      0.41      0.45        29\n",
      "\n",
      "    accuracy                           0.61       102\n",
      "   macro avg       0.38      0.43      0.40       102\n",
      "weighted avg       0.51      0.61      0.55       102\n",
      "\n",
      "Performing Ensemble Voting...\n"
     ]
    },
    {
     "name": "stderr",
     "output_type": "stream",
     "text": [
      "d:\\lingyi\\Documents\\4032 data\\SC4021---Group-20\\venv\\Lib\\site-packages\\sklearn\\metrics\\_classification.py:1471: UndefinedMetricWarning: Precision and F-score are ill-defined and being set to 0.0 in labels with no predicted samples. Use `zero_division` parameter to control this behavior.\n",
      "  _warn_prf(average, modifier, msg_start, len(result))\n",
      "d:\\lingyi\\Documents\\4032 data\\SC4021---Group-20\\venv\\Lib\\site-packages\\sklearn\\metrics\\_classification.py:1471: UndefinedMetricWarning: Precision and F-score are ill-defined and being set to 0.0 in labels with no predicted samples. Use `zero_division` parameter to control this behavior.\n",
      "  _warn_prf(average, modifier, msg_start, len(result))\n",
      "d:\\lingyi\\Documents\\4032 data\\SC4021---Group-20\\venv\\Lib\\site-packages\\sklearn\\metrics\\_classification.py:1471: UndefinedMetricWarning: Precision and F-score are ill-defined and being set to 0.0 in labels with no predicted samples. Use `zero_division` parameter to control this behavior.\n",
      "  _warn_prf(average, modifier, msg_start, len(result))\n"
     ]
    },
    {
     "name": "stdout",
     "output_type": "stream",
     "text": [
      "Ensemble Voting Accuracy: 0.6484\n",
      "Ensemble Voting Classification Report:\n",
      "              precision    recall  f1-score   support\n",
      "\n",
      "           0       0.63      0.93      0.75       105\n",
      "           1       0.67      0.25      0.36        40\n",
      "           2       0.69      0.46      0.55        74\n",
      "\n",
      "    accuracy                           0.65       219\n",
      "   macro avg       0.66      0.55      0.56       219\n",
      "weighted avg       0.66      0.65      0.61       219\n",
      "\n"
     ]
    }
   ],
   "source": [
    "# --- 7. Q5 Innovations & Ablation Study ---\n",
    "print(\"\\n=== Q5: Innovation Study (NER + ABSA + Ensemble) ===\")\n",
    "# ABSA (on evaluation set): Simulate using 'coin_listings' feature from crypto_exchange_data_preprocessed.csv\n",
    "absa_path = os.path.join(data_path, \"crypto_exchange_data_preprocessed.csv\")\n",
    "df_full = pd.read_csv(absa_path)\n",
    "\n",
    "# ABSA\n",
    "print(\"Performing ABSA on 'coin_listings'...\")\n",
    "df_absa = pd.merge(df_eval, df_full[['cleaned_text', 'coin_listings']], on='cleaned_text', how='left')\n",
    "df_absa = df_absa.dropna(subset=['coin_listings'])\n",
    "y_absa = (df_absa['coin_listings'] > 0).astype(int)\n",
    "X_absa = df_absa['cleaned_text']\n",
    "X_train_absa, X_test_absa, y_train_absa, y_test_absa = train_test_split(X_absa, y_absa, test_size=0.2, random_state=42)\n",
    "\n",
    "absa_model = Pipeline([\n",
    "    ('vectorizer', CountVectorizer()),\n",
    "    ('clf', RandomForestClassifier(random_state=42))\n",
    "])\n",
    "absa_model.fit(X_train_absa, y_train_absa)\n",
    "y_pred_absa = absa_model.predict(X_test_absa)\n",
    "absa_score = accuracy_score(y_test_absa, y_pred_absa)\n",
    "print(\"ABSA (Coin Listings Sentiment on Eval Set) Classification Report:\")\n",
    "print(classification_report(y_test_absa, y_pred_absa))\n",
    "\n",
    "# NER-enhanced\n",
    "print(\"Performing NER-enhanced classification...\")\n",
    "df_ner = pd.merge(df_eval, df_full[['cleaned_text', 'entities']], on='cleaned_text', how='left')\n",
    "df_ner = df_ner[df_ner['entities'].apply(lambda x: isinstance(x, str) and len(x) > 2)]\n",
    "X_ner = df_ner[\"cleaned_text\"]\n",
    "y_ner = df_ner[\"GT_Polarity_Label\"]\n",
    "X_train_ner, X_test_ner, y_train_ner, y_test_ner = train_test_split(X_ner, y_ner, test_size=0.2, random_state=42)\n",
    "\n",
    "ner_model = Pipeline([\n",
    "    ('vectorizer', CountVectorizer()),\n",
    "    ('clf', RandomForestClassifier(random_state=42))\n",
    "])\n",
    "ner_model.fit(X_train_ner, y_train_ner)\n",
    "y_pred_ner = ner_model.predict(X_test_ner)\n",
    "ner_score = accuracy_score(y_test_ner, y_pred_ner)\n",
    "print(\"NER-enhanced (on Eval Set) Classification Report:\")\n",
    "print(classification_report(y_test_ner, y_pred_ner))\n",
    "\n",
    "# Ensemble Voting on base classifiers\n",
    "print(\"Performing Ensemble Voting...\")\n",
    "y_pred_vader = X_test_pol.apply(lambda x: SentimentIntensityAnalyzer().polarity_scores(x)[\"compound\"]).apply(\n",
    "    lambda s: 1 if s > 0.05 else 0 if s < -0.05 else 2)\n",
    "\n",
    "y_pred_textblob = X_test_pol.apply(lambda x: TextBlob(x).sentiment.polarity).apply(\n",
    "    lambda p: 1 if p > 0.1 else 0 if p < -0.1 else 2)\n",
    "\n",
    "# Combine model predictions using majority voting\n",
    "ensemble_df = pd.DataFrame({\n",
    "    \"rf\": list(y_pred_rf),\n",
    "    \"nb\": list(y_pred_nb),\n",
    "    \"vader\": list(y_pred_vader),\n",
    "    \"blob\": list(y_pred_textblob)\n",
    "})\n",
    "\n",
    "ensemble_df[\"ensemble\"] = ensemble_df.mode(axis=1)[0]\n",
    "ensemble_score = accuracy_score(y_test_pol.reset_index(drop=True), ensemble_df[\"ensemble\"])\n",
    "print(f\"Ensemble Voting Accuracy: {ensemble_score:.4f}\")\n",
    "print(\"Ensemble Voting Classification Report:\")\n",
    "print(classification_report(y_test_pol.reset_index(drop=True), ensemble_df[\"ensemble\"]))"
   ]
  },
  {
   "cell_type": "code",
   "execution_count": 24,
   "id": "b4de0098",
   "metadata": {},
   "outputs": [
    {
     "data": {
      "image/png": "[encoded data removed]",
      "text/plain": [
       "<Figure size 640x480 with 2 Axes>"
      ]
     },
     "metadata": {},
     "output_type": "display_data"
    }
   ],
   "source": [
    "plot_confusion_matrix(y_test_absa, y_pred_absa, title=\"ABSA Confusion Matrix\")"
   ]
  },
  {
   "cell_type": "code",
   "execution_count": 25,
   "id": "fe9db72a",
   "metadata": {},
   "outputs": [
    {
     "data": {
      "image/png": "[encoded data removed]",
      "text/plain": [
       "<Figure size 640x480 with 2 Axes>"
      ]
     },
     "metadata": {},
     "output_type": "display_data"
    }
   ],
   "source": [
    "plot_confusion_matrix(y_test_ner, y_pred_ner, title=\"NER-Enhanced Confusion Matrix\")\n"
   ]
  },
  {
   "cell_type": "code",
   "execution_count": 26,
   "id": "ad5a427d",
   "metadata": {},
   "outputs": [
    {
     "data": {
      "image/png": "[encoded data removed]",
      "text/plain": [
       "<Figure size 640x480 with 2 Axes>"
      ]
     },
     "metadata": {},
     "output_type": "display_data"
    }
   ],
   "source": [
    "plot_confusion_matrix(y_test_pol.reset_index(drop=True), ensemble_df[\"ensemble\"], title=\"Ensemble Voting Confusion Matrix\")\n"
   ]
  },
  {
   "cell_type": "code",
   "execution_count": 15,
   "id": "af5dc6e0",
   "metadata": {},
   "outputs": [
    {
     "name": "stdout",
     "output_type": "stream",
     "text": [
      "\n",
      "fees distribution:\n",
      "False    57444\n",
      "True      7016\n",
      "Name: fees, dtype: int64\n",
      "\n",
      "user_interface distribution:\n",
      "False    47979\n",
      "True     16481\n",
      "Name: user_interface, dtype: int64\n",
      "\n",
      "customer_service distribution:\n",
      "False    48965\n",
      "True     15495\n",
      "Name: customer_service, dtype: int64\n",
      "\n",
      "security distribution:\n",
      "False    57917\n",
      "True      6543\n",
      "Name: security, dtype: int64\n",
      "\n",
      "coin_listings distribution:\n",
      "False    40934\n",
      "True     23526\n",
      "Name: coin_listings, dtype: int64\n",
      "\n",
      "performance distribution:\n",
      "False    53992\n",
      "True     10468\n",
      "Name: performance, dtype: int64\n"
     ]
    }
   ],
   "source": [
    "aspects = ['fees', 'user_interface', 'customer_service', 'security', 'coin_listings', 'performance']\n",
    "df_full = pd.read_csv(os.path.join(data_path, \"crypto_exchange_data_preprocessed.csv\"))\n",
    "\n",
    "for aspect in aspects:\n",
    "    counts = (df_full[aspect] > 0).value_counts()\n",
    "    print(f\"\\n{aspect} distribution:\")\n",
    "    print(counts)\n"
   ]
  },
  {
   "cell_type": "code",
   "execution_count": 16,
   "id": "4b1974e1",
   "metadata": {},
   "outputs": [
    {
     "name": "stdout",
     "output_type": "stream",
     "text": [
      "\n",
      "=== Q5 Ablation Summary Table ===\n",
      "        Model  Accuracy\n",
      "0     Base RF  0.589041\n",
      "1      + ABSA  0.996276\n",
      "2       + NER  0.607843\n",
      "3  + Ensemble  0.648402\n"
     ]
    },
    {
     "data": {
      "image/png": "[encoded data removed]",
      "text/plain": [
       "<Figure size 640x480 with 1 Axes>"
      ]
     },
     "metadata": {},
     "output_type": "display_data"
    }
   ],
   "source": [
    "# --- Summary Table ---\n",
    "print(\"\\n=== Q5 Ablation Summary Table ===\")\n",
    "ablation_results = pd.DataFrame({\n",
    "    \"Model\": [\"Base RF\", \"+ ABSA\", \"+ NER\", \"+ Ensemble\"],\n",
    "    \"Accuracy\": [accuracy_score(y_test_pol, y_pred_rf), absa_score, ner_score, ensemble_score]\n",
    "})\n",
    "print(ablation_results)\n",
    "\n",
    "sns.barplot(x=\"Accuracy\", y=\"Model\", data=ablation_results)\n",
    "plt.title(\"Q5 Ablation Accuracy Comparison\")\n",
    "plt.xlim(0, 1)\n",
    "plt.show()\n"
   ]
  }
 ],
 "metadata": {
  "kernelspec": {
   "display_name": "venv",
   "language": "python",
   "name": "python3"
  },
  "language_info": {
   "codemirror_mode": {
    "name": "ipython",
    "version": 3
   },
   "file_extension": ".py",
   "mimetype": "text/x-python",
   "name": "python",
   "nbconvert_exporter": "python",
   "pygments_lexer": "ipython3",
   "version": "3.12.4"
  }
 },
 "nbformat": 4,
 "nbformat_minor": 5
}
